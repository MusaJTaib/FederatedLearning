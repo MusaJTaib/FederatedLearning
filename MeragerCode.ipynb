{
 "cells": [
  {
   "cell_type": "code",
   "execution_count": 46,
   "metadata": {},
   "outputs": [],
   "source": [
    "import pandas as pd\n",
    "\n",
    "df_4 = pd.read_csv('CHF_DATA_1/CHF_4A_90D_10W.csv')\n",
    "df_13 = pd.read_csv('CHF_DATA_1/CHF_13A_90D_10W.csv')\n",
    "df_55 = pd.read_csv('CHF_DATA_1/CHF_55A_90D_10W.csv')\n",
    "df_188 = pd.read_csv('CHF_DATA_1/CHF_188A_90D_10W.csv')\n",
    "df_213 = pd.read_csv('CHF_DATA_1/CHF_213A_90D_10W.csv')\n",
    "df_225 = pd.read_csv('CHF_DATA_1/CHF_225A_90D_10W.csv')\n",
    "df_330 = pd.read_csv('CHF_DATA_1/CHF_330A_90D_10W.csv')\n",
    "df_333 = pd.read_csv('CHF_DATA_1/CHF_333A_90D_10W.csv')"
   ]
  },
  {
   "cell_type": "code",
   "execution_count": 47,
   "metadata": {},
   "outputs": [],
   "source": [
    "df_data = pd.concat([df_4, df_13, df_55, df_188, df_213, df_225, df_330, df_333])"
   ]
  },
  {
   "cell_type": "code",
   "execution_count": 48,
   "metadata": {},
   "outputs": [],
   "source": [
    "df_labels = pd.read_csv('CHF_Data_1/CHF_Labels_Local_548.csv')"
   ]
  },
  {
   "cell_type": "code",
   "execution_count": 49,
   "metadata": {},
   "outputs": [],
   "source": [
    "set_data = set(df_data['ClientId'])\n",
    "set_labels = set(df_labels['ClientId'])\n",
    "unique_to_data = set_data - set_labels\n",
    "unique_to_labels = set_labels - set_data\n",
    "common_client_ids = set_data & set_labels\n"
   ]
  },
  {
   "cell_type": "code",
   "execution_count": 50,
   "metadata": {},
   "outputs": [],
   "source": [
    "df_unique_to_data = pd.DataFrame(list(unique_to_data), columns=['ClientId'])\n",
    "df_unique_to_labels = pd.DataFrame(list(unique_to_labels), columns=['ClientId'])\n"
   ]
  },
  {
   "cell_type": "code",
   "execution_count": 51,
   "metadata": {},
   "outputs": [],
   "source": [
    "# Keep rows in df_labels where ClientId is present in df_data\n",
    "df_labels_synced = df_labels[df_labels['ClientId'].isin(df_data['ClientId'])]"
   ]
  },
  {
   "cell_type": "code",
   "execution_count": 52,
   "metadata": {},
   "outputs": [],
   "source": [
    "file_name = f'CHF_Data_1/CHF_Unlinked_90D_10W.csv'\n",
    "df_data.to_csv(file_name, index=False)"
   ]
  },
  {
   "cell_type": "code",
   "execution_count": 53,
   "metadata": {},
   "outputs": [],
   "source": [
    "file_name = f'CHF_Data_1/CHF_Labels_Local_548.csv'\n",
    "df_labels.to_csv(file_name, index=False)"
   ]
  }
 ],
 "metadata": {
  "kernelspec": {
   "display_name": "torch",
   "language": "python",
   "name": "python3"
  },
  "language_info": {
   "codemirror_mode": {
    "name": "ipython",
    "version": 3
   },
   "file_extension": ".py",
   "mimetype": "text/x-python",
   "name": "python",
   "nbconvert_exporter": "python",
   "pygments_lexer": "ipython3",
   "version": "3.9.18"
  }
 },
 "nbformat": 4,
 "nbformat_minor": 2
}
