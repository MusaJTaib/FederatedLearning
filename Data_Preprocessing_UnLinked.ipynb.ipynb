{
 "cells": [
  {
   "cell_type": "markdown",
   "id": "482cfbf3-41ea-415d-9d68-d3e0ed6d7845",
   "metadata": {},
   "source": [
    "# CHF Shelter Data Federated Learning Demo"
   ]
  },
  {
   "cell_type": "code",
   "execution_count": null,
   "id": "7e373d99-6a3e-45d1-af63-e3769bd9c321",
   "metadata": {},
   "outputs": [],
   "source": [
    "import pandas as pd\n",
    "import numpy as np\n",
    "import matplotlib.pyplot as plt\n",
    "\n",
    "from sklearn.cluster import KMeans\n",
    "from sklearn.model_selection import StratifiedKFold, StratifiedShuffleSplit\n",
    "\n",
    "\n",
    "from tqdm.auto import tqdm, trange\n",
    "from tqdm.notebook import tqdm\n",
    "tqdm.pandas()"
   ]
  },
  {
   "cell_type": "markdown",
   "id": "02c9913a",
   "metadata": {},
   "source": [
    "Agencies: 4, 13, 55, 188, 213, 225, 330, 333"
   ]
  },
  {
   "cell_type": "code",
   "execution_count": null,
   "id": "2875f176",
   "metadata": {},
   "outputs": [],
   "source": [
    "LDays = 548\n",
    "Data_Days = 90\n",
    "Data_periods = 10\n",
    "Agency = 333"
   ]
  },
  {
   "cell_type": "code",
   "execution_count": null,
   "id": "320ae42a-aef1-4d88-aaf7-eff0e10073b1",
   "metadata": {},
   "outputs": [],
   "source": [
    "pd.set_option('display.max_columns', None)"
   ]
  },
  {
   "cell_type": "code",
   "execution_count": null,
   "id": "f5049255-5384-483b-8965-3cfb84bde972",
   "metadata": {},
   "outputs": [],
   "source": [
    "tbl = pd.read_parquet('MergedShelterData-Nov17.parquet')"
   ]
  },
  {
   "cell_type": "code",
   "execution_count": null,
   "id": "b8c6bd16-a4b9-4565-9976-fd6146196310",
   "metadata": {},
   "outputs": [],
   "source": [
    "tbl"
   ]
  },
  {
   "cell_type": "markdown",
   "id": "fa661bc8-acae-4288-ab7f-936a399daa67",
   "metadata": {},
   "source": [
    "## EDA\n",
    "---"
   ]
  },
  {
   "cell_type": "code",
   "execution_count": null,
   "id": "802cffce-b139-404d-96d6-a4f72a9355c9",
   "metadata": {},
   "outputs": [],
   "source": [
    "print(f'Dates: {tbl.Date.min()} to {tbl.Date.max()}')"
   ]
  },
  {
   "cell_type": "code",
   "execution_count": null,
   "id": "f0403965-e6c5-4e78-a47a-ad52328fcef4",
   "metadata": {},
   "outputs": [],
   "source": [
    "nPrsn = len(tbl.ClientId.unique())\n",
    "print(f'{nPrsn} people in the data.')"
   ]
  },
  {
   "cell_type": "code",
   "execution_count": null,
   "id": "93c4cea9-45ad-4780-a208-0b63f76eae61",
   "metadata": {},
   "outputs": [],
   "source": [
    "print(f'{len(tbl.Agency.unique())} different shelters.')"
   ]
  },
  {
   "cell_type": "markdown",
   "id": "6c746d0c-aadc-411a-a4d2-58e750b28052",
   "metadata": {},
   "source": [
    "#### Number of people who use different shelters."
   ]
  },
  {
   "cell_type": "markdown",
   "id": "1a4740b8-2b63-4cd8-95d6-77e54e97fe3e",
   "metadata": {},
   "source": [
    "Total Population"
   ]
  },
  {
   "cell_type": "code",
   "execution_count": null,
   "id": "0f59a35c-3986-4caa-9d8c-e107423c3955",
   "metadata": {},
   "outputs": [],
   "source": [
    "nShelter = tbl.groupby('ClientId').progress_apply(lambda x: len(x.Agency.unique()))"
   ]
  },
  {
   "cell_type": "code",
   "execution_count": null,
   "id": "488e32ed-6861-4d10-a912-623fac205b9d",
   "metadata": {},
   "outputs": [],
   "source": [
    "def number_of_shelter_breakdown(nShelter,nPrsn):\n",
    "    hist = nShelter.value_counts()\n",
    "    for nS in hist.index.sort_values():\n",
    "        print(f'{hist[nS]}/{nPrsn} ({100*hist[nS]/nPrsn:.2f}%) people used {nS} shelters.')        "
   ]
  },
  {
   "cell_type": "code",
   "execution_count": null,
   "id": "2d1e2b4e-d37c-4b2b-ae63-1d7f3367c62f",
   "metadata": {},
   "outputs": [],
   "source": [
    "number_of_shelter_breakdown(nShelter,nPrsn)"
   ]
  },
  {
   "cell_type": "markdown",
   "id": "218bcf2f-4d1e-430b-8c30-8b1281ef2113",
   "metadata": {},
   "source": [
    "Heavy System Users"
   ]
  },
  {
   "cell_type": "code",
   "execution_count": null,
   "id": "2590ee38-2e7f-400d-a30a-2de2a3198783",
   "metadata": {},
   "outputs": [],
   "source": [
    "nStay = tbl.groupby('ClientId').Date.count()"
   ]
  },
  {
   "cell_type": "code",
   "execution_count": null,
   "id": "f77f67a0-18a9-4c14-849e-f57f37ca765d",
   "metadata": {},
   "outputs": [],
   "source": [
    "heavyPctl = 0.95\n",
    "heavyIds = nStay.sort_values().iloc[int(nPrsn*heavyPctl):].index.to_numpy()"
   ]
  },
  {
   "cell_type": "code",
   "execution_count": null,
   "id": "f555f4ff-98d8-4723-b18d-5fe12d2432be",
   "metadata": {},
   "outputs": [],
   "source": [
    "number_of_shelter_breakdown(nShelter[heavyIds],len(heavyIds))"
   ]
  },
  {
   "cell_type": "code",
   "execution_count": null,
   "id": "9b51b28a-1755-4c85-88d5-c11593a6c8b1",
   "metadata": {},
   "outputs": [],
   "source": [
    "agency_dfs = {}\n",
    "unique_agencies = tbl['Agency'].unique()\n",
    "\n",
    "for agency in unique_agencies:\n",
    "    agency_dfs[agency] = tbl[tbl['Agency'] == agency]\n",
    "\n",
    "\n",
    "df_agency = agency_dfs[Agency] \n"
   ]
  },
  {
   "cell_type": "code",
   "execution_count": null,
   "id": "7b4dc7b5",
   "metadata": {},
   "outputs": [],
   "source": [
    "tbl = df_agency\n",
    "# Assuming tbl is your dataframe and 'ClientId' is the column you want to modify\n",
    "tbl['ClientId'] = tbl['ClientId'].astype(str) + f'_{Agency}'"
   ]
  },
  {
   "cell_type": "markdown",
   "id": "77bce5d3-1f75-4e22-ad0c-258cf193a187",
   "metadata": {},
   "source": [
    "## Labelling\n",
    "---\n",
    "- We'll use cluster based analysis on total stay and total number of stay episode values to label our data set.\n",
    "- More information on this methodology here: https://arxiv.org/abs/2210.13619"
   ]
  },
  {
   "cell_type": "code",
   "execution_count": null,
   "id": "70f34257",
   "metadata": {},
   "outputs": [],
   "source": [
    "# Assuming tbl is your DataFrame\n",
    "tbl['Date'] = pd.to_datetime(tbl['Date'])\n",
    "\n",
    "def filter_group(group):\n",
    "    group = group.sort_values('Date')\n",
    "    min_date = group['Date'].min()\n",
    "    # Keep only dates within the first 90 days\n",
    "    group = group[group['Date'] <= min_date + pd.Timedelta(days=LDays)]\n",
    "    # Drop duplicates in the Date column\n",
    "    group = group.drop_duplicates(subset='Date', keep=False)\n",
    "    return group\n",
    "\n",
    "tbl = tbl.groupby('ClientId').apply(filter_group).reset_index(drop=True)"
   ]
  },
  {
   "cell_type": "code",
   "execution_count": null,
   "id": "d7b1a9bf-6178-47e5-8f33-e22a400442e9",
   "metadata": {},
   "outputs": [],
   "source": [
    "episodeGap = 30 # days\n",
    "\n",
    "def calc_stays_and_gaps(tbl):    \n",
    "    stayDates = tbl.Date.drop_duplicates().sort_values() \n",
    "    nStay = len(stayDates)\n",
    "\n",
    "    gapVals = stayDates.diff()\n",
    "    nEpi = len(gapVals.loc[gapVals >= pd.Timedelta(f'{episodeGap} day') ])+1\n",
    "    \n",
    "    return pd.Series({ 'NStays': nStay, 'NEpisodes': nEpi })"
   ]
  },
  {
   "cell_type": "code",
   "execution_count": null,
   "id": "d3501736-bf91-4b3f-b0fd-161a2257ce00",
   "metadata": {},
   "outputs": [],
   "source": [
    "tblStayGap = tbl.groupby('ClientId').progress_apply(calc_stays_and_gaps)"
   ]
  },
  {
   "cell_type": "markdown",
   "id": "2bbddd8c-d420-47cd-bd0b-c71ce81858ba",
   "metadata": {},
   "source": [
    "## Labelling at Individual Shelters\n",
    "---\n",
    "- Assume the centralized labels are the ground truth and compare how close labels generated in each shelter get."
   ]
  },
  {
   "cell_type": "code",
   "execution_count": null,
   "metadata": {},
   "outputs": [],
   "source": [
    "nShelters = tbl['Agency'].drop_duplicates()"
   ]
  },
  {
   "cell_type": "markdown",
   "id": "ab073d8a-2acd-4ba4-8517-c49b81b7be7d",
   "metadata": {},
   "source": [
    "## Chronic Shelter Use Prediction at Individual Shelters\n",
    "---"
   ]
  },
  {
   "cell_type": "markdown",
   "metadata": {},
   "source": [
    "Step 1: Find the total time frame.\n",
    "\n",
    "\n",
    "\n",
    "Step 2: Implement Windowing for like 4 months."
   ]
  },
  {
   "cell_type": "code",
   "execution_count": null,
   "metadata": {},
   "outputs": [],
   "source": [
    "import pandas as pd\n",
    "\n",
    "# Assuming tbl is your DataFrame\n",
    "tbl['Date'] = pd.to_datetime(tbl['Date'])\n",
    "\n",
    "def filter_group(group):\n",
    "    group = group.sort_values('Date')\n",
    "    min_date = group['Date'].min()\n",
    "    # Keep only dates within the first 90 days\n",
    "    group = group[group['Date'] <= min_date + pd.Timedelta(days=Data_Days)]\n",
    "    # Drop duplicates in the Date column\n",
    "    group = group.drop_duplicates(subset='Date', keep=False)\n",
    "    return group\n",
    "\n",
    "filtered_tbl = tbl.groupby('ClientId').apply(filter_group).reset_index(drop=True)\n"
   ]
  },
  {
   "cell_type": "code",
   "execution_count": null,
   "id": "97b2eba7",
   "metadata": {},
   "outputs": [],
   "source": [
    "episodeGap = 30 # days\n",
    "\n",
    "def calc_stays_and_gaps(tbl):    \n",
    "    stayDates = tbl.Date.drop_duplicates().sort_values() \n",
    "    nStay = len(stayDates)\n",
    "\n",
    "    gapVals = stayDates.diff()\n",
    "    nEpi = len(gapVals.loc[gapVals >= pd.Timedelta(f'{episodeGap} day') ])+1\n",
    "    \n",
    "    return pd.Series({ 'NStays': nStay, 'NEpisodes': nEpi })"
   ]
  },
  {
   "cell_type": "code",
   "execution_count": null,
   "id": "a17e93d4",
   "metadata": {},
   "outputs": [],
   "source": [
    "filtered_tbl_2 = filtered_tbl.groupby('ClientId').progress_apply(calc_stays_and_gaps)"
   ]
  },
  {
   "cell_type": "code",
   "execution_count": null,
   "metadata": {},
   "outputs": [],
   "source": [
    "filtered_tbl['Sleep'] = 1"
   ]
  },
  {
   "cell_type": "code",
   "execution_count": null,
   "metadata": {},
   "outputs": [],
   "source": [
    "import pandas as pd\n",
    "\n",
    "def aggregate_to_30_day_windows(group):\n",
    "    group.set_index('Date', inplace=True)\n",
    "    # Initialize an empty DataFrame to store the final result for this group\n",
    "    final_group = pd.DataFrame()\n",
    "    calculated_freq = f'{int(Data_Days/Data_periods)}D'\n",
    "    # Create periods of 30 days each, starting from the minimum date\n",
    "    for period_start in pd.date_range(start=group.index.min(), periods=Data_periods, freq=calculated_freq):\n",
    "        # Define the end of the period (30 days after the start)\n",
    "        period_end = period_start + pd.Timedelta(days=Data_Days/Data_periods)\n",
    "        # Filter the group for events within the current 30-day period\n",
    "        events_in_period = group[(group.index >= period_start) & (group.index < period_end)]\n",
    "        # Count the number of events in the period\n",
    "        event_count = len(events_in_period)\n",
    "        # Add a row with the count of events and the correct ClientId\n",
    "        count_row = pd.DataFrame({'Sleep': [event_count]}, index=[period_start])\n",
    "        final_group = final_group.append(count_row)\n",
    "    final_group['ClientId'] = group.name  # Add the ClientId to each row\n",
    "    return final_group\n",
    "\n",
    "# Assuming filtered_tbl is your pre-filtered DataFrame\n",
    "aggregated_tbl = filtered_tbl.groupby('ClientId').apply(aggregate_to_30_day_windows).reset_index(drop=True)\n",
    "\n"
   ]
  },
  {
   "cell_type": "markdown",
   "id": "b2c39a7f",
   "metadata": {},
   "source": [
    "This is where I assign shelters to the clients"
   ]
  },
  {
   "cell_type": "code",
   "execution_count": null,
   "id": "be7a4f6e",
   "metadata": {},
   "outputs": [],
   "source": [
    "# This will create a series from 0, 1, 2, 0, 1, 2, etc.\n",
    "helper_column = (aggregated_tbl.groupby('ClientId').cumcount() + 1).astype(str)\n",
    "\n",
    "# Add this as a new column to the DataFrame\n",
    "aggregated_tbl['CountId'] = 'Sleep_' + helper_column\n",
    "\n",
    "# Pivot the table\n",
    "pivot_table = aggregated_tbl.pivot(index='ClientId', columns='CountId', values='Sleep')\n",
    "\n",
    "# Reset the index to turn ClientId into a column\n",
    "pivot_table.reset_index(inplace=True)\n",
    "\n",
    "unique_clients = filtered_tbl.drop_duplicates(subset='ClientId', keep='first')\n",
    "\n",
    "# Set ClientId as index for easy lookup\n",
    "pivot_table.set_index('ClientId', inplace=True)\n",
    "unique_clients.set_index('ClientId', inplace=True)\n",
    "\n",
    "# Update Agency in agg_tbl based on unique_clients\n",
    "pivot_table['Agency'] = pivot_table.index.map(unique_clients['Agency'])\n",
    "\n",
    "# Reset index if you want ClientId as a column\n",
    "pivot_table.reset_index(inplace=True)\n"
   ]
  },
  {
   "cell_type": "markdown",
   "metadata": {},
   "source": [
    "Combine Shelters over ClientID\n",
    "\n",
    "Run a model in Pytorch"
   ]
  },
  {
   "cell_type": "code",
   "execution_count": null,
   "id": "3f9d8899-2e65-417f-bf27-f7dfdf2acc63",
   "metadata": {},
   "outputs": [],
   "source": [
    "pivot_table = pivot_table.fillna(0)"
   ]
  },
  {
   "cell_type": "code",
   "execution_count": null,
   "id": "9dd3b731",
   "metadata": {},
   "outputs": [],
   "source": [
    "unique_clients.reset_index(inplace=True)"
   ]
  },
  {
   "cell_type": "code",
   "execution_count": null,
   "id": "4486ef3d",
   "metadata": {},
   "outputs": [],
   "source": [
    "filtered_tbl_2.reset_index(inplace=True)"
   ]
  },
  {
   "cell_type": "code",
   "execution_count": null,
   "id": "8f7d41f3",
   "metadata": {},
   "outputs": [],
   "source": [
    "pivot_table['Episodes'] = filtered_tbl_2['NEpisodes']\n",
    "pivot_table['Stays'] = filtered_tbl_2['NStays']\n",
    "pivot_table['Agency'] = unique_clients['Agency']"
   ]
  },
  {
   "cell_type": "code",
   "execution_count": null,
   "metadata": {},
   "outputs": [],
   "source": [
    "# # Save aggregated_tbl as a CSV file\n",
    "file_name = f'CHF_Data_1/CHF_{Agency}A_{Data_Days}D_{Data_periods}W.csv'\n",
    "pivot_table.to_csv(file_name, index=False)"
   ]
  }
 ],
 "metadata": {
  "kernelspec": {
   "display_name": "Python 3",
   "language": "python",
   "name": "python3"
  },
  "language_info": {
   "codemirror_mode": {
    "name": "ipython",
    "version": 3
   },
   "file_extension": ".py",
   "mimetype": "text/x-python",
   "name": "python",
   "nbconvert_exporter": "python",
   "pygments_lexer": "ipython3",
   "version": "3.10.13"
  }
 },
 "nbformat": 4,
 "nbformat_minor": 5
}
