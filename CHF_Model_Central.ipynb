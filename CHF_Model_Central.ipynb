{
 "cells": [
  {
   "cell_type": "code",
   "execution_count": null,
   "metadata": {},
   "outputs": [],
   "source": [
    "import pandas as pd\n",
    "import torch\n",
    "import torch.nn as nn\n",
    "import torch.optim as optim\n",
    "from sklearn.model_selection import train_test_split\n",
    "from sklearn.preprocessing import StandardScaler\n",
    "from sklearn.metrics import accuracy_score\n",
    "import numpy as np"
   ]
  },
  {
   "cell_type": "code",
   "execution_count": null,
   "metadata": {},
   "outputs": [],
   "source": [
    "Data_periods = 3\n",
    "Data_Days = 30\n",
    "LDays = 548"
   ]
  },
  {
   "cell_type": "code",
   "execution_count": null,
   "metadata": {},
   "outputs": [],
   "source": [
    "model_type = \"Centralized_FL\"\n",
    "windows = f'{Data_periods}W'\n",
    "label_days = f'{Data_Days}-Central'\n",
    "prediction_days = f'{LDays}'"
   ]
  },
  {
   "cell_type": "code",
   "execution_count": null,
   "metadata": {},
   "outputs": [],
   "source": [
    "# Load data\n",
    "CHF_data = pd.read_csv(f'CHF_Data_1/CHF_{Data_Days}D_{Data_periods}W.csv')\n",
    "CHF_Labels_2 = pd.read_csv(f'CHF_Data_1/CHF_Labels_{LDays}.csv')"
   ]
  },
  {
   "cell_type": "code",
   "execution_count": null,
   "metadata": {},
   "outputs": [],
   "source": [
    "CHF_Labels = pd.DataFrame()\n",
    "CHF_Labels['ClientId'] = CHF_Labels_2['ClientId'] \n",
    "CHF_Labels['Label'] = CHF_Labels_2['ListNumber']"
   ]
  },
  {
   "cell_type": "code",
   "execution_count": null,
   "metadata": {},
   "outputs": [],
   "source": [
    "pivoted_data = CHF_data.drop('Agency', axis=1)"
   ]
  },
  {
   "cell_type": "code",
   "execution_count": null,
   "metadata": {},
   "outputs": [],
   "source": [
    "# # Assuming CHF_data is your DataFrame and it has columns named \"ClientId\" and \"Sleep\"\n",
    "# # Create a helper column to count the Sleep occurrences per ClientId\n",
    "# CHF_data['SleepCount'] = CHF_data.groupby('ClientId').cumcount()\n",
    "\n",
    "# # Use pivot_table to pivot the DataFrame, creating a column for each Sleep occurrence\n",
    "# pivoted_data = CHF_data.pivot_table(index='ClientId', columns='SleepCount', values='Sleep', aggfunc='first')\n",
    "\n",
    "# # Flatten the MultiIndex in columns and create a new column naming convention\n",
    "# pivoted_data.columns = [f'Sleep_{i}' for i in pivoted_data.columns]\n",
    "\n",
    "# # Reset the index to turn the ClientIds back into a column\n",
    "# pivoted_data.reset_index(inplace=True)\n"
   ]
  },
  {
   "cell_type": "code",
   "execution_count": null,
   "metadata": {},
   "outputs": [],
   "source": [
    "# Merge and preprocess data\n",
    "data = pd.merge(pivoted_data, CHF_Labels, on='ClientId')\n",
    "data['Label'] = data['Label'].map({'Trn': 1, 'Epi': 2, 'Chr': 3})  # Replace class1, class2, class3 with actual class names"
   ]
  },
  {
   "cell_type": "code",
   "execution_count": null,
   "metadata": {},
   "outputs": [],
   "source": [
    "# Split data\n",
    "X = data.drop(['Label','ClientId'], axis=1).values\n",
    "y = data['Label'].values\n",
    "\n",
    "y_indices = y - 1  # Convert labels to 0, 1, and 2\n",
    "\n",
    "# Normalize features\n",
    "scaler = StandardScaler()\n",
    "X = scaler.fit_transform(X)\n",
    "\n",
    "# Split into train and test sets\n",
    "X_train2, X_test, y_train2, y_test = train_test_split(\n",
    "    X, \n",
    "    y_indices, \n",
    "    test_size=0.2, \n",
    "    random_state=42, \n",
    "    stratify=y_indices  # This ensures the stratification\n",
    ")"
   ]
  },
  {
   "cell_type": "code",
   "execution_count": null,
   "metadata": {},
   "outputs": [],
   "source": [
    "X_train, X_val, y_train, y_val = train_test_split(\n",
    "    X_train2, \n",
    "    y_train2, \n",
    "    test_size=0.15, \n",
    "    random_state=42, \n",
    "    stratify=y_train2  # This ensures the stratification\n",
    ") "
   ]
  },
  {
   "cell_type": "code",
   "execution_count": null,
   "metadata": {},
   "outputs": [],
   "source": [
    "from sklearn.utils.class_weight import compute_class_weight\n",
    "\n",
    "# Assuming y_train contains the class labels for the training dataset\n",
    "class_weights = compute_class_weight(\n",
    "    class_weight='balanced', \n",
    "    classes=np.unique(y_train),  # Directly use the unique labels from y_train\n",
    "    y=y_train\n",
    ")\n",
    "class_weights_tensor_2 = torch.tensor(class_weights, dtype=torch.float32)"
   ]
  },
  {
   "cell_type": "code",
   "execution_count": null,
   "metadata": {},
   "outputs": [],
   "source": [
    "class_weights_tensor = torch.tensor(np.array([0.75, 3, 6]), dtype=torch.float32)"
   ]
  },
  {
   "cell_type": "code",
   "execution_count": null,
   "metadata": {},
   "outputs": [],
   "source": []
  },
  {
   "cell_type": "code",
   "execution_count": null,
   "metadata": {},
   "outputs": [],
   "source": [
    "# Convert to PyTorch tensors\n",
    "X_train_tensor = torch.tensor(X_train).float()\n",
    "y_train_tensor = torch.tensor(y_train).long()\n",
    "\n",
    "X_test_tensor = torch.tensor(X_test).float()\n",
    "y_test_tensor = torch.tensor(y_test).long()\n",
    "\n",
    "X_val_tensor = torch.tensor(X_val).float()\n",
    "y_val_tensor = torch.tensor(y_val).long()"
   ]
  },
  {
   "cell_type": "code",
   "execution_count": null,
   "metadata": {},
   "outputs": [],
   "source": [
    "from torch.utils.data import DataLoader, TensorDataset\n",
    "\n",
    "# Create DataLoaders\n",
    "# Create TensorDatasets\n",
    "train_dataset = TensorDataset(X_train_tensor, y_train_tensor)\n",
    "test_dataset = TensorDataset(X_test_tensor, y_test_tensor)\n",
    "val_dataset = TensorDataset(X_val_tensor, y_val_tensor)\n",
    "\n",
    "# Create DataLoaders\n",
    "batch_size = 2048\n",
    "train_loader = DataLoader(dataset=train_dataset, batch_size=batch_size, shuffle=True)\n",
    "val_loader = DataLoader(dataset=val_dataset, batch_size=batch_size, shuffle=True)"
   ]
  },
  {
   "cell_type": "code",
   "execution_count": null,
   "metadata": {},
   "outputs": [],
   "source": [
    "import torch.optim as optim\n",
    "\n",
    "class MLP(nn.Module):\n",
    "    def __init__(self):\n",
    "        super(MLP, self).__init__()\n",
    "        self.layers = nn.Sequential(\n",
    "            nn.Linear(X_train.shape[1], 256),\n",
    "            nn.LeakyReLU(negative_slope=0.01),  # Using LeakyReLU\n",
    "            #nn.Dropout(0.15),  # Dropout layer\n",
    "            nn.Linear(256, 128),\n",
    "            nn.LeakyReLU(negative_slope=0.01),  # Using LeakyReLU\n",
    "            nn.Dropout(0.50),  # Another Dropout layer\n",
    "            nn.Linear(128, 8),\n",
    "            nn.LeakyReLU(negative_slope=0.01),  # Using LeakyReLU\n",
    "            nn.Dropout(0.50),  # Another Dropout layer\n",
    "            nn.Linear(8, 3)\n",
    "        )\n",
    "        \n",
    "    def forward(self, x):\n",
    "        return self.layers(x)\n",
    "\n",
    "model = MLP()\n",
    "criterion = nn.CrossEntropyLoss(weight=class_weights_tensor) \n",
    "optimizer = optim.AdamW(model.parameters(), lr=0.0001, weight_decay=0.01)  # Using AdamW\n",
    "# nn.CrossEntropyLoss(weight=class_weights_tensor) "
   ]
  },
  {
   "cell_type": "code",
   "execution_count": null,
   "metadata": {},
   "outputs": [],
   "source": [
    "def calculate_recall(outputs, labels, num_classes):\n",
    "    _, preds = torch.max(outputs, 1)\n",
    "    correct = preds.eq(labels.view_as(preds))\n",
    "\n",
    "    recall_per_class = []\n",
    "    for i in range(num_classes):\n",
    "        correct_class = correct[labels == i]\n",
    "        recall_class = torch.mean(correct_class.float()) if correct_class.numel() > 0 else torch.tensor(0)\n",
    "        recall_per_class.append(recall_class.item())\n",
    "\n",
    "    return recall_per_class\n"
   ]
  },
  {
   "cell_type": "code",
   "execution_count": null,
   "metadata": {},
   "outputs": [],
   "source": [
    "import copy\n",
    "def early_stopping_check(epoch_val_loss, best_val_loss, best_model_weights, model, patience_counter, patience=10):\n",
    "    if epoch_val_loss < best_val_loss:\n",
    "        best_val_loss = epoch_val_loss\n",
    "        best_model_weights = copy.deepcopy(model.state_dict())\n",
    "        patience_counter = 0\n",
    "    else:\n",
    "        patience_counter += 1\n",
    "\n",
    "    stop_training = False\n",
    "    if patience_counter >= patience:\n",
    "        stop_training = True\n",
    "\n",
    "    return stop_training, best_val_loss, best_model_weights, patience_counter\n"
   ]
  },
  {
   "cell_type": "code",
   "execution_count": null,
   "metadata": {},
   "outputs": [],
   "source": [
    "import copy\n",
    "import matplotlib.pyplot as plt\n",
    "loss_values = []  # List to store training loss values\n",
    "val_loss_values = []  # List to store validation loss values\n",
    "train_recall_values = []  # This will store the average recall per epoch\n",
    "val_recall_values = []\n",
    "\n",
    "# Usage in your training loop\n",
    "patience = 200\n",
    "best_val_loss = float('inf')\n",
    "best_model_weights = copy.deepcopy(model.state_dict())\n",
    "patience_counter = 0\n",
    "\n",
    "\n",
    "num_classes = 3\n",
    "for epoch in range(patience):  # Number of epochs\n",
    "    # Training\n",
    "    model.train()  # Set the model to training mode\n",
    "    running_loss = 0.0\n",
    "    running_recall = []\n",
    "\n",
    "    for inputs, labels in train_loader:\n",
    "        optimizer.zero_grad()\n",
    "        outputs = model(inputs)\n",
    "        loss = criterion(outputs, labels)\n",
    "        loss.backward()\n",
    "        optimizer.step()\n",
    "\n",
    "        running_loss += loss.item()\n",
    "\n",
    "        # Calculate recall\n",
    "        recall_batch = calculate_recall(outputs, labels, num_classes)\n",
    "        running_recall.append(recall_batch)\n",
    "\n",
    "    epoch_loss = running_loss / len(train_loader)\n",
    "    epoch_recall = np.mean(np.array(running_recall), axis=0)  # Recall for each class\n",
    "    average_epoch_recall = np.mean(epoch_recall)  # Average recall across all classes\n",
    "    train_recall_values.append(average_epoch_recall)  # Store the average training recall for this epoch\n",
    "    loss_values.append(epoch_loss)  # Store the average training loss for this epoch\n",
    "\n",
    "    # Validation\n",
    "    model.eval()  # Set the model to evaluation mode\n",
    "    running_val_loss = 0.0\n",
    "    running_val_recall = []\n",
    "\n",
    "    with torch.no_grad():  # No gradient computation for validation\n",
    "        for val_inputs, val_labels in val_loader:\n",
    "            val_outputs = model(val_inputs)\n",
    "            val_loss = criterion(val_outputs, val_labels)\n",
    "            running_val_loss += val_loss.item()\n",
    "\n",
    "            # Calculate recall\n",
    "            val_recall_batch = calculate_recall(val_outputs, val_labels, num_classes)\n",
    "            running_val_recall.append(val_recall_batch)\n",
    "\n",
    "    epoch_val_loss = running_val_loss / len(val_loader)\n",
    "    epoch_val_recall = np.mean(np.array(running_val_recall), axis=0)  # Average recall over all validation batches\n",
    "    average_epoch_val_recall = np.mean(epoch_val_recall)\n",
    "    val_recall_values.append(average_epoch_val_recall)  # Store the average validation recall for this epoch\n",
    "    val_loss_values.append(epoch_val_loss)  # Store the average validation loss for this epoch\n",
    "\n",
    "\n",
    "        # Early stopping check\n",
    "    stop_training, best_val_loss, best_model_weights, patience_counter = early_stopping_check(\n",
    "        epoch_val_loss, best_val_loss, best_model_weights, model, patience_counter, patience\n",
    "    )\n",
    "\n",
    "    if stop_training:\n",
    "        print(f\"Stopping early at epoch {epoch}. Restoring best model weights.\")\n",
    "        break\n",
    "\n",
    "# Restore best model weights\n",
    "model.load_state_dict(best_model_weights)"
   ]
  },
  {
   "cell_type": "code",
   "execution_count": null,
   "metadata": {},
   "outputs": [],
   "source": [
    "# Plotting the training and validation loss\n",
    "plt.plot(loss_values, label='Training Loss')\n",
    "plt.plot(val_loss_values, label='Validation Loss')\n",
    "plt.xlabel('Epoch')\n",
    "plt.ylabel('Loss')\n",
    "plt.title('Training and Validation Loss vs. Epoch')\n",
    "plt.legend()\n",
    "plt.show()"
   ]
  },
  {
   "cell_type": "code",
   "execution_count": null,
   "metadata": {},
   "outputs": [],
   "source": [
    "# Convert each element to mean recall if they are lists or tensors\n",
    "train_recall_avg = [np.mean(epoch) if isinstance(epoch, (list, np.ndarray)) else epoch for epoch in train_recall_values]\n",
    "val_recall_avg = [np.mean(epoch) if isinstance(epoch, (list, np.ndarray)) else epoch for epoch in val_recall_values]\n"
   ]
  },
  {
   "cell_type": "code",
   "execution_count": null,
   "metadata": {},
   "outputs": [],
   "source": [
    "plt.plot(train_recall_avg, label='Training Recall')\n",
    "plt.plot(val_recall_avg, label='Validation Recall')\n",
    "plt.xlabel('Epoch')\n",
    "plt.ylabel('Recall')\n",
    "plt.title('Training and Validation Recall vs. Epoch')\n",
    "plt.legend()\n",
    "plt.show()"
   ]
  },
  {
   "cell_type": "code",
   "execution_count": null,
   "metadata": {},
   "outputs": [],
   "source": [
    "# Evaluate the model\n",
    "with torch.no_grad():\n",
    "    y_pred1 = model(X_test_tensor)\n",
    "    y_pred = torch.argmax(y_pred1, dim=1)\n",
    "    accuracy = accuracy_score(y_test, y_pred)\n",
    "    print(f'Total Accuracy: {accuracy}')"
   ]
  },
  {
   "cell_type": "code",
   "execution_count": null,
   "metadata": {},
   "outputs": [],
   "source": [
    "from sklearn.metrics import confusion_matrix\n",
    "\n",
    "y_test_np = y_test.numpy() if isinstance(y_test, torch.Tensor) else y_test\n",
    "y_pred_np = y_pred.numpy() if isinstance(y_pred, torch.Tensor) else y_pred\n",
    "\n",
    "# Generate a confusion matrix\n",
    "cm = confusion_matrix(y_test_np, y_pred_np)\n",
    "\n",
    "# Calculate per-class accuracy\n",
    "per_class_accuracy = cm.diagonal() / cm.sum(axis=1)\n",
    "\n",
    "# Print per-class accuracy\n",
    "for i, accuracy in enumerate(per_class_accuracy):\n",
    "    print(f\"Accuracy for class {i}: {accuracy * 100:.2f}%\")"
   ]
  },
  {
   "cell_type": "code",
   "execution_count": null,
   "metadata": {},
   "outputs": [],
   "source": [
    "from sklearn.metrics import confusion_matrix\n",
    "\n",
    "y_test_np = y_test.numpy() if isinstance(y_test, torch.Tensor) else y_test\n",
    "y_pred_np = y_pred.numpy() if isinstance(y_pred, torch.Tensor) else y_pred\n",
    "\n",
    "# Generate a confusion matrix\n",
    "cm = confusion_matrix(y_test_np, y_pred_np)\n",
    "\n",
    "# Initialize precision and recall arrays\n",
    "precision = np.zeros(cm.shape[0])\n",
    "recall = np.zeros(cm.shape[0])\n",
    "\n",
    "# Calculate precision and recall for each class\n",
    "for i in range(cm.shape[0]):\n",
    "    TP = cm[i, i]\n",
    "    FP = cm[:, i].sum() - TP\n",
    "    FN = cm[i, :].sum() - TP\n",
    "\n",
    "    precision[i] = TP / (TP + FP) if (TP + FP) > 0 else 0\n",
    "    recall[i] = TP / (TP + FN) if (TP + FN) > 0 else 0\n",
    "    print(f\"Precision for class {i}: {precision[i] * 100:.2f}%\")\n",
    "    print(f\"Recall for class {i}: {recall[i] * 100:.2f}%\")\n",
    "\n",
    "# Calculate macro-averaged precision and recall\n",
    "macro_avg_precision = precision.mean()\n",
    "macro_avg_recall = recall.mean()\n",
    "\n",
    "print(f\"\\nMacro Average Precision: {macro_avg_precision * 100:.2f}%\")\n",
    "print(f\"Macro Average Recall: {macro_avg_recall * 100:.2f}%\")\n"
   ]
  },
  {
   "cell_type": "code",
   "execution_count": null,
   "metadata": {},
   "outputs": [],
   "source": [
    "# Replace these with your actual values\n",
    "macro_avg_precision = precision # Replace with your actual value\n",
    "macro_avg_recall = recall  # Replace with your actual value\n",
    "\n",
    "# Creating a DataFrame\n",
    "data = {\n",
    "    \"Model Type\": [model_type],\n",
    "    \"Windows\": [windows],\n",
    "    \"Label Days\": [label_days],\n",
    "    \"Prediction Days\": [prediction_days],\n",
    "    \"Average Precision\": [sum(macro_avg_precision)/3],\n",
    "    \"Average Recall\": [sum(macro_avg_recall)/3],\n",
    "    \"Macro Average Precision\": [macro_avg_precision],\n",
    "    \"Macro Average Recall\": [macro_avg_recall]\n",
    "}\n",
    "\n",
    "new_data_df = pd.DataFrame(data)\n",
    "\n",
    "# File name\n",
    "excel_filename = \"Model_Results_Central.xlsx\"\n",
    "\n",
    "# Check if the file exists\n",
    "try:\n",
    "    # If it exists, read the existing data and append the new data\n",
    "    existing_data_df = pd.read_excel(excel_filename)\n",
    "    combined_df = pd.concat([existing_data_df, new_data_df], ignore_index=True)\n",
    "except FileNotFoundError:\n",
    "    # If the file does not exist, just use the new data\n",
    "    combined_df = new_data_df\n",
    "\n",
    "# Save the combined data back to the Excel file\n",
    "combined_df.to_excel(excel_filename, index=False)\n"
   ]
  }
 ],
 "metadata": {
  "kernelspec": {
   "display_name": "Torch(3.9P)",
   "language": "python",
   "name": "pytorch"
  },
  "language_info": {
   "codemirror_mode": {
    "name": "ipython",
    "version": 3
   },
   "file_extension": ".py",
   "mimetype": "text/x-python",
   "name": "python",
   "nbconvert_exporter": "python",
   "pygments_lexer": "ipython3",
   "version": "3.9.18"
  }
 },
 "nbformat": 4,
 "nbformat_minor": 2
}
