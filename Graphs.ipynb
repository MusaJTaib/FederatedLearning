{
 "cells": [
  {
   "cell_type": "code",
   "execution_count": 38,
   "metadata": {},
   "outputs": [],
   "source": [
    "import pandas as pd\n",
    "import matplotlib.pyplot as plt\n",
    "from matplotlib.backends.backend_pdf import PdfPages\n",
    "\n",
    "# Load the data from both files\n",
    "file_xlsx = 'NRes/Model_Results_FL_3.xlsx'  # Update the path accordingly\n",
    "file_csv = 'NRes/Model_Results_Local_3.csv'  # Update the path accordingly\n",
    "\n",
    "# Reading the Excel file\n",
    "data_xlsx = pd.read_excel(file_xlsx)\n",
    "\n",
    "# Reading the CSV file\n",
    "data_csv = pd.read_csv(file_csv)\n",
    "\n",
    "# Preprocess CSV data: convert percentage strings to floats\n",
    "data_csv['Macro Average Precision'] = data_csv['Macro Average Precision'].str.rstrip('%').astype('float') / 100\n",
    "data_csv['Macro Average Recall'] = data_csv['Macro Average Recall'].str.rstrip('%').astype('float') / 100\n",
    "\n",
    "# Rename columns for consistency in Excel data\n",
    "data_xlsx.rename(columns={'Average Precision': 'Macro Average Precision', 'Average Recall': 'Macro Average Recall'}, inplace=True)\n",
    "\n",
    "# Select relevant columns for comparison\n",
    "data_xlsx_relevant = data_xlsx[['Agency', 'Macro Average Precision', 'Macro Average Recall']]\n",
    "data_csv_relevant = data_csv[['Agency', 'Macro Average Precision', 'Macro Average Recall']]\n",
    "\n",
    "# Aggregate data by Agency and calculate mean for precision and recall\n",
    "aggregated_xlsx = data_xlsx_relevant.groupby('Agency').mean().reset_index()\n",
    "aggregated_csv = data_csv_relevant.groupby('Agency').mean().reset_index()\n",
    "\n",
    "# Calculate F1 Score using the formula: 2 * (precision * recall) / (precision + recall)\n",
    "aggregated_xlsx['Average F1_Score'] = 2 * (aggregated_xlsx['Macro Average Precision'] * aggregated_xlsx['Macro Average Recall']) / (aggregated_xlsx['Macro Average Precision'] + aggregated_xlsx['Macro Average Recall'])\n",
    "aggregated_csv['Average F1_Score'] = 2 * (aggregated_csv['Macro Average Precision'] * aggregated_csv['Macro Average Recall']) / (aggregated_csv['Macro Average Precision'] + aggregated_csv['Macro Average Recall'])\n",
    "\n"
   ]
  },
  {
   "cell_type": "code",
   "execution_count": 40,
   "metadata": {},
   "outputs": [],
   "source": [
    "def create_and_save_enhanced_f1_graph(pdf_filename, aggregated_data_xlsx, aggregated_data_csv):\n",
    "    plt.rcParams.update({'font.size': 24, 'font.weight': 'normal'})  # Update default rc settings\n",
    "    agencies = sorted(set(aggregated_data_xlsx['Agency']) | set(aggregated_data_csv['Agency']), key=int)\n",
    "    with PdfPages(pdf_filename) as pdf:\n",
    "        fig, ax = plt.subplots(figsize=(10, 7))\n",
    "        width = 0.35\n",
    "        x_indexes = range(len(agencies))\n",
    "\n",
    "        # Plot bars for each data set\n",
    "        ax.bar(x_indexes, aggregated_xlsx['Average F1_Score'], width=-width, align='edge', label='Federated', color='skyblue', edgecolor='black')\n",
    "        ax.bar(x_indexes, aggregated_csv['Average F1_Score'], width=width, align='edge', label='Isolated', color='lightgreen', edgecolor='black')\n",
    "\n",
    "        # Set x-axis labels and titles\n",
    "        ax.set_xticks(x_indexes)\n",
    "        ax.set_xticklabels(agencies)\n",
    "        ax.set_xlabel('Agency')\n",
    "        ax.set_ylabel('Average F1 Score')\n",
    "\n",
    "        # Manually adjust the y-axis limits to provide space for the legend\n",
    "        current_ylim = ax.get_ylim()\n",
    "        ax.set_ylim(current_ylim[0], current_ylim[1] * 1.12)  # Increase the upper limit by 10%\n",
    "\n",
    "        # Add a legend\n",
    "        ax.legend(loc='upper center', ncol=2)#, bbox_to_anchor=(0.5, 1.15), ncol=2)\n",
    "\n",
    "        # Ensure layout is tight so everything fits without overlapping\n",
    "        plt.tight_layout()\n",
    "\n",
    "        # Save the figure to PDF\n",
    "        pdf.savefig(fig)\n",
    "        plt.close()\n",
    "\n",
    "# Replace 'aggregated_xlsx' and 'aggregated_csv' with your actual DataFrame variables\n",
    "create_and_save_enhanced_f1_graph('f1_score_comparison.pdf', aggregated_xlsx, aggregated_csv)"
   ]
  }
 ],
 "metadata": {
  "kernelspec": {
   "display_name": "Torch(3.9P)",
   "language": "python",
   "name": "pytorch"
  },
  "language_info": {
   "codemirror_mode": {
    "name": "ipython",
    "version": 3
   },
   "file_extension": ".py",
   "mimetype": "text/x-python",
   "name": "python",
   "nbconvert_exporter": "python",
   "pygments_lexer": "ipython3",
   "version": "3.9.18"
  }
 },
 "nbformat": 4,
 "nbformat_minor": 2
}
